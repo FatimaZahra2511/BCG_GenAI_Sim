{
  "nbformat": 4,
  "nbformat_minor": 0,
  "metadata": {
    "colab": {
      "provenance": []
    },
    "kernelspec": {
      "name": "python3",
      "display_name": "Python 3"
    },
    "language_info": {
      "name": "python"
    }
  },
  "cells": [
    {
      "cell_type": "code",
      "execution_count": 1,
      "metadata": {
        "colab": {
          "base_uri": "https://localhost:8080/"
        },
        "id": "nyF3hXaFRe_q",
        "outputId": "7d99e116-c480-4744-9c10-38905ff48115"
      },
      "outputs": [
        {
          "output_type": "stream",
          "name": "stdout",
          "text": [
            "Requirement already satisfied: pandas in /usr/local/lib/python3.11/dist-packages (2.2.2)\n",
            "Requirement already satisfied: flask in /usr/local/lib/python3.11/dist-packages (3.1.0)\n",
            "Requirement already satisfied: numpy>=1.23.2 in /usr/local/lib/python3.11/dist-packages (from pandas) (2.0.2)\n",
            "Requirement already satisfied: python-dateutil>=2.8.2 in /usr/local/lib/python3.11/dist-packages (from pandas) (2.8.2)\n",
            "Requirement already satisfied: pytz>=2020.1 in /usr/local/lib/python3.11/dist-packages (from pandas) (2025.1)\n",
            "Requirement already satisfied: tzdata>=2022.7 in /usr/local/lib/python3.11/dist-packages (from pandas) (2025.1)\n",
            "Requirement already satisfied: Werkzeug>=3.1 in /usr/local/lib/python3.11/dist-packages (from flask) (3.1.3)\n",
            "Requirement already satisfied: Jinja2>=3.1.2 in /usr/local/lib/python3.11/dist-packages (from flask) (3.1.6)\n",
            "Requirement already satisfied: itsdangerous>=2.2 in /usr/local/lib/python3.11/dist-packages (from flask) (2.2.0)\n",
            "Requirement already satisfied: click>=8.1.3 in /usr/local/lib/python3.11/dist-packages (from flask) (8.1.8)\n",
            "Requirement already satisfied: blinker>=1.9 in /usr/local/lib/python3.11/dist-packages (from flask) (1.9.0)\n",
            "Requirement already satisfied: MarkupSafe>=2.0 in /usr/local/lib/python3.11/dist-packages (from Jinja2>=3.1.2->flask) (3.0.2)\n",
            "Requirement already satisfied: six>=1.5 in /usr/local/lib/python3.11/dist-packages (from python-dateutil>=2.8.2->pandas) (1.17.0)\n"
          ]
        }
      ],
      "source": [
        "pip install pandas flask\n"
      ]
    },
    {
      "cell_type": "code",
      "source": [
        "from google.colab import files\n",
        "uploaded = files.upload()\n"
      ],
      "metadata": {
        "colab": {
          "base_uri": "https://localhost:8080/",
          "height": 73
        },
        "id": "PChLclrtS3UX",
        "outputId": "84a7be74-3f4e-4f9b-e152-876b72c552a8"
      },
      "execution_count": 3,
      "outputs": [
        {
          "output_type": "display_data",
          "data": {
            "text/plain": [
              "<IPython.core.display.HTML object>"
            ],
            "text/html": [
              "\n",
              "     <input type=\"file\" id=\"files-d0dd0d8b-a9f5-4154-9e86-8d45c350d8a7\" name=\"files[]\" multiple disabled\n",
              "        style=\"border:none\" />\n",
              "     <output id=\"result-d0dd0d8b-a9f5-4154-9e86-8d45c350d8a7\">\n",
              "      Upload widget is only available when the cell has been executed in the\n",
              "      current browser session. Please rerun this cell to enable.\n",
              "      </output>\n",
              "      <script>// Copyright 2017 Google LLC\n",
              "//\n",
              "// Licensed under the Apache License, Version 2.0 (the \"License\");\n",
              "// you may not use this file except in compliance with the License.\n",
              "// You may obtain a copy of the License at\n",
              "//\n",
              "//      http://www.apache.org/licenses/LICENSE-2.0\n",
              "//\n",
              "// Unless required by applicable law or agreed to in writing, software\n",
              "// distributed under the License is distributed on an \"AS IS\" BASIS,\n",
              "// WITHOUT WARRANTIES OR CONDITIONS OF ANY KIND, either express or implied.\n",
              "// See the License for the specific language governing permissions and\n",
              "// limitations under the License.\n",
              "\n",
              "/**\n",
              " * @fileoverview Helpers for google.colab Python module.\n",
              " */\n",
              "(function(scope) {\n",
              "function span(text, styleAttributes = {}) {\n",
              "  const element = document.createElement('span');\n",
              "  element.textContent = text;\n",
              "  for (const key of Object.keys(styleAttributes)) {\n",
              "    element.style[key] = styleAttributes[key];\n",
              "  }\n",
              "  return element;\n",
              "}\n",
              "\n",
              "// Max number of bytes which will be uploaded at a time.\n",
              "const MAX_PAYLOAD_SIZE = 100 * 1024;\n",
              "\n",
              "function _uploadFiles(inputId, outputId) {\n",
              "  const steps = uploadFilesStep(inputId, outputId);\n",
              "  const outputElement = document.getElementById(outputId);\n",
              "  // Cache steps on the outputElement to make it available for the next call\n",
              "  // to uploadFilesContinue from Python.\n",
              "  outputElement.steps = steps;\n",
              "\n",
              "  return _uploadFilesContinue(outputId);\n",
              "}\n",
              "\n",
              "// This is roughly an async generator (not supported in the browser yet),\n",
              "// where there are multiple asynchronous steps and the Python side is going\n",
              "// to poll for completion of each step.\n",
              "// This uses a Promise to block the python side on completion of each step,\n",
              "// then passes the result of the previous step as the input to the next step.\n",
              "function _uploadFilesContinue(outputId) {\n",
              "  const outputElement = document.getElementById(outputId);\n",
              "  const steps = outputElement.steps;\n",
              "\n",
              "  const next = steps.next(outputElement.lastPromiseValue);\n",
              "  return Promise.resolve(next.value.promise).then((value) => {\n",
              "    // Cache the last promise value to make it available to the next\n",
              "    // step of the generator.\n",
              "    outputElement.lastPromiseValue = value;\n",
              "    return next.value.response;\n",
              "  });\n",
              "}\n",
              "\n",
              "/**\n",
              " * Generator function which is called between each async step of the upload\n",
              " * process.\n",
              " * @param {string} inputId Element ID of the input file picker element.\n",
              " * @param {string} outputId Element ID of the output display.\n",
              " * @return {!Iterable<!Object>} Iterable of next steps.\n",
              " */\n",
              "function* uploadFilesStep(inputId, outputId) {\n",
              "  const inputElement = document.getElementById(inputId);\n",
              "  inputElement.disabled = false;\n",
              "\n",
              "  const outputElement = document.getElementById(outputId);\n",
              "  outputElement.innerHTML = '';\n",
              "\n",
              "  const pickedPromise = new Promise((resolve) => {\n",
              "    inputElement.addEventListener('change', (e) => {\n",
              "      resolve(e.target.files);\n",
              "    });\n",
              "  });\n",
              "\n",
              "  const cancel = document.createElement('button');\n",
              "  inputElement.parentElement.appendChild(cancel);\n",
              "  cancel.textContent = 'Cancel upload';\n",
              "  const cancelPromise = new Promise((resolve) => {\n",
              "    cancel.onclick = () => {\n",
              "      resolve(null);\n",
              "    };\n",
              "  });\n",
              "\n",
              "  // Wait for the user to pick the files.\n",
              "  const files = yield {\n",
              "    promise: Promise.race([pickedPromise, cancelPromise]),\n",
              "    response: {\n",
              "      action: 'starting',\n",
              "    }\n",
              "  };\n",
              "\n",
              "  cancel.remove();\n",
              "\n",
              "  // Disable the input element since further picks are not allowed.\n",
              "  inputElement.disabled = true;\n",
              "\n",
              "  if (!files) {\n",
              "    return {\n",
              "      response: {\n",
              "        action: 'complete',\n",
              "      }\n",
              "    };\n",
              "  }\n",
              "\n",
              "  for (const file of files) {\n",
              "    const li = document.createElement('li');\n",
              "    li.append(span(file.name, {fontWeight: 'bold'}));\n",
              "    li.append(span(\n",
              "        `(${file.type || 'n/a'}) - ${file.size} bytes, ` +\n",
              "        `last modified: ${\n",
              "            file.lastModifiedDate ? file.lastModifiedDate.toLocaleDateString() :\n",
              "                                    'n/a'} - `));\n",
              "    const percent = span('0% done');\n",
              "    li.appendChild(percent);\n",
              "\n",
              "    outputElement.appendChild(li);\n",
              "\n",
              "    const fileDataPromise = new Promise((resolve) => {\n",
              "      const reader = new FileReader();\n",
              "      reader.onload = (e) => {\n",
              "        resolve(e.target.result);\n",
              "      };\n",
              "      reader.readAsArrayBuffer(file);\n",
              "    });\n",
              "    // Wait for the data to be ready.\n",
              "    let fileData = yield {\n",
              "      promise: fileDataPromise,\n",
              "      response: {\n",
              "        action: 'continue',\n",
              "      }\n",
              "    };\n",
              "\n",
              "    // Use a chunked sending to avoid message size limits. See b/62115660.\n",
              "    let position = 0;\n",
              "    do {\n",
              "      const length = Math.min(fileData.byteLength - position, MAX_PAYLOAD_SIZE);\n",
              "      const chunk = new Uint8Array(fileData, position, length);\n",
              "      position += length;\n",
              "\n",
              "      const base64 = btoa(String.fromCharCode.apply(null, chunk));\n",
              "      yield {\n",
              "        response: {\n",
              "          action: 'append',\n",
              "          file: file.name,\n",
              "          data: base64,\n",
              "        },\n",
              "      };\n",
              "\n",
              "      let percentDone = fileData.byteLength === 0 ?\n",
              "          100 :\n",
              "          Math.round((position / fileData.byteLength) * 100);\n",
              "      percent.textContent = `${percentDone}% done`;\n",
              "\n",
              "    } while (position < fileData.byteLength);\n",
              "  }\n",
              "\n",
              "  // All done.\n",
              "  yield {\n",
              "    response: {\n",
              "      action: 'complete',\n",
              "    }\n",
              "  };\n",
              "}\n",
              "\n",
              "scope.google = scope.google || {};\n",
              "scope.google.colab = scope.google.colab || {};\n",
              "scope.google.colab._files = {\n",
              "  _uploadFiles,\n",
              "  _uploadFilesContinue,\n",
              "};\n",
              "})(self);\n",
              "</script> "
            ]
          },
          "metadata": {}
        },
        {
          "output_type": "stream",
          "name": "stdout",
          "text": [
            "Saving Updated_Financial_Figures.csv to Updated_Financial_Figures.csv\n"
          ]
        }
      ]
    },
    {
      "cell_type": "code",
      "source": [
        "import pandas as pd\n",
        "\n",
        "# Load the financial data\n",
        "df = pd.read_csv(\"Updated_Financial_Figures.csv\")\n",
        "df.set_index([\"Company\", \"Fiscal Year\"], inplace=True)\n",
        "\n",
        "# Function to fetch financial data\n",
        "def get_financial_data(company, year, metric):\n",
        "    try:\n",
        "        return df.loc[(company, year), metric]\n",
        "    except KeyError:\n",
        "        return \"Data not available for the given input.\"\n"
      ],
      "metadata": {
        "id": "8biKUKhVRiow"
      },
      "execution_count": 4,
      "outputs": []
    },
    {
      "cell_type": "code",
      "source": [
        "def financial_chatbot(user_query):\n",
        "    \"\"\"Handles predefined financial queries.\"\"\"\n",
        "\n",
        "    # Predefined responses\n",
        "    if user_query == \"What is the total revenue for Microsoft in 2023?\":\n",
        "        return f\"Microsoft's total revenue in 2023 was {get_financial_data('Microsoft Corporation', 2023, 'Total Revenue')} billion USD.\"\n",
        "\n",
        "    elif user_query == \"How has Tesla's net income changed over the last year?\":\n",
        "        net_income_growth = df.loc[(\"Tesla Inc.\", 2023), \"Net Income Growth (%)\"]\n",
        "        return f\"Tesla's net income changed by {net_income_growth:.2f}% in 2023.\"\n",
        "\n",
        "    elif user_query == \"What are Apple’s total assets in 2022?\":\n",
        "        return f\"Apple's total assets in 2022 were {get_financial_data('Apple Inc.', 2022, 'Total Assets')} billion USD.\"\n",
        "\n",
        "    elif user_query == \"Compare Microsoft and Apple’s revenue in 2023.\":\n",
        "        msft_revenue = get_financial_data(\"Microsoft Corporation\", 2023, \"Total Revenue\")\n",
        "        apple_revenue = get_financial_data(\"Apple Inc.\", 2023, \"Total Revenue\")\n",
        "        higher = \"Microsoft\" if msft_revenue > apple_revenue else \"Apple\"\n",
        "        return f\"In 2023, {higher} had higher revenue: {max(msft_revenue, apple_revenue)} billion USD.\"\n",
        "\n",
        "    elif user_query == \"Which company had the highest net income in 2022?\":\n",
        "        highest_income = df[df.index.get_level_values(\"Fiscal Year\") == 2022][\"Net Income\"].idxmax()\n",
        "        return f\"The company with the highest net income in 2022 was {highest_income[0]}.\"\n",
        "\n",
        "    else:\n",
        "        return \"Sorry, I can only answer predefined financial queries.\"\n",
        "\n",
        "# Testing the chatbot\n",
        "while True:\n",
        "    query = input(\"\\nAsk a financial question (or type 'exit' to quit): \")\n",
        "    if query.lower() == \"exit\":\n",
        "        break\n",
        "    print(financial_chatbot(query))\n"
      ],
      "metadata": {
        "colab": {
          "base_uri": "https://localhost:8080/"
        },
        "id": "yCrxReV9RieW",
        "outputId": "b5727698-71fa-4298-c174-f69dacad23ba"
      },
      "execution_count": 7,
      "outputs": [
        {
          "name": "stdout",
          "output_type": "stream",
          "text": [
            "\n",
            "Ask a financial question (or type 'exit' to quit): what is it?\n",
            "Sorry, I can only answer predefined financial queries.\n",
            "\n",
            "Ask a financial question (or type 'exit' to quit): What is the total revenue for Microsoft in 2023?\n",
            "Microsoft's total revenue in 2023 was 211.9 billion USD.\n",
            "\n",
            "Ask a financial question (or type 'exit' to quit): Which company had the highest net income in 2022?\n",
            "The company with the highest net income in 2022 was Apple Inc..\n",
            "\n",
            "Ask a financial question (or type 'exit' to quit): exit\n"
          ]
        }
      ]
    },
    {
      "cell_type": "code",
      "source": [
        "def simple_chatbot(user_query):\n",
        "    if user_query == \"What is the total revenue?\":\n",
        "        return \"The total revenue is $211.9 billion for Microsoft (2023), $96.77 billion for Tesla (2023), and $383.93 billion for Apple (2023).\"\n",
        "\n",
        "    elif user_query == \"How has net income changed over the last year?\":\n",
        "        return \"Net income changed by 6.85% for Microsoft, 18.79% for Tesla, and -2.64% for Apple in 2023.\"\n",
        "\n",
        "    elif user_query == \"What are the total assets for Tesla in 2023?\":\n",
        "        return \"The total assets for Tesla in 2023 were $106.62 billion.\"\n",
        "\n",
        "    else:\n",
        "        return \"Sorry, I can only provide information on predefined queries.\"\n",
        "\n",
        "# Now run your test cases\n",
        "print(simple_chatbot(\"What is the total revenue?\"))\n",
        "print(simple_chatbot(\"How has net income changed over the last year?\"))\n",
        "print(simple_chatbot(\"What are the total assets for Tesla in 2023?\"))\n",
        "print(simple_chatbot(\"Unknown query\"))\n"
      ],
      "metadata": {
        "colab": {
          "base_uri": "https://localhost:8080/"
        },
        "id": "d0mwqpqxUfLd",
        "outputId": "d7990402-4c56-4ff5-e2c5-e419c4c71697"
      },
      "execution_count": 9,
      "outputs": [
        {
          "output_type": "stream",
          "name": "stdout",
          "text": [
            "The total revenue is $211.9 billion for Microsoft (2023), $96.77 billion for Tesla (2023), and $383.93 billion for Apple (2023).\n",
            "Net income changed by 6.85% for Microsoft, 18.79% for Tesla, and -2.64% for Apple in 2023.\n",
            "The total assets for Tesla in 2023 were $106.62 billion.\n",
            "Sorry, I can only provide information on predefined queries.\n"
          ]
        }
      ]
    }
  ]
}